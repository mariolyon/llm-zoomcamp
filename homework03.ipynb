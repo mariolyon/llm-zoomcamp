{
  "cells": [
    {
      "cell_type": "markdown",
      "metadata": {
        "id": "view-in-github",
        "colab_type": "text"
      },
      "source": [
        "<a href=\"https://colab.research.google.com/github/mariolyon/llm-zoomcamp/blob/main/homework03.ipynb\" target=\"_parent\"><img src=\"https://colab.research.google.com/assets/colab-badge.svg\" alt=\"Open In Colab\"/></a>"
      ]
    },
    {
      "cell_type": "code",
      "execution_count": null,
      "id": "2fb47599-161d-4902-8f08-b40195bd555f",
      "metadata": {
        "id": "2fb47599-161d-4902-8f08-b40195bd555f"
      },
      "outputs": [],
      "source": [
        "%load_ext autoreload\n",
        "%autoreload 2"
      ]
    },
    {
      "cell_type": "code",
      "execution_count": null,
      "id": "29283001-1a81-4e7b-96f9-7f46e9b1c329",
      "metadata": {
        "id": "29283001-1a81-4e7b-96f9-7f46e9b1c329"
      },
      "outputs": [],
      "source": [
        "pip install -U minsearch qdrant_client tqdm -q"
      ]
    },
    {
      "cell_type": "code",
      "execution_count": null,
      "id": "38cf98ff-ad89-4560-97eb-476cc2b1839c",
      "metadata": {
        "id": "38cf98ff-ad89-4560-97eb-476cc2b1839c"
      },
      "outputs": [],
      "source": [
        "import requests\n",
        "import pandas as pd\n",
        "\n",
        "url_prefix = 'https://raw.githubusercontent.com/DataTalksClub/llm-zoomcamp/main/03-evaluation/'\n",
        "docs_url = url_prefix + 'search_evaluation/documents-with-ids.json'\n",
        "documents = requests.get(docs_url).json()\n",
        "\n",
        "ground_truth_url = url_prefix + 'search_evaluation/ground-truth-data.csv'\n",
        "df_ground_truth = pd.read_csv(ground_truth_url)\n",
        "ground_truth = df_ground_truth.to_dict(orient='records')\n"
      ]
    },
    {
      "cell_type": "code",
      "execution_count": null,
      "id": "819dbcdb-113b-42f6-a9c7-97a1c3a05b31",
      "metadata": {
        "id": "819dbcdb-113b-42f6-a9c7-97a1c3a05b31"
      },
      "outputs": [],
      "source": [
        "from tqdm.auto import tqdm\n",
        "\n",
        "def hit_rate(relevance_total):\n",
        "    cnt = 0\n",
        "\n",
        "    for line in relevance_total:\n",
        "        if True in line:\n",
        "            cnt = cnt + 1\n",
        "\n",
        "    return cnt / len(relevance_total)\n",
        "\n",
        "def mrr(relevance_total):\n",
        "    total_score = 0.0\n",
        "\n",
        "    for line in relevance_total:\n",
        "        for rank in range(len(line)):\n",
        "            if line[rank] == True:\n",
        "                total_score = total_score + 1 / (rank + 1)\n",
        "\n",
        "    return total_score / len(relevance_total)\n",
        "\n",
        "def evaluate(ground_truth, search_function):\n",
        "    relevance_total = []\n",
        "\n",
        "    for q in tqdm(ground_truth):\n",
        "        doc_id = q['document']\n",
        "        results = search_function(q)\n",
        "        relevance = [d['id'] == doc_id for d in results]\n",
        "        relevance_total.append(relevance)\n",
        "\n",
        "    return {\n",
        "        'hit_rate': hit_rate(relevance_total),\n",
        "        'mrr': mrr(relevance_total)\n",
        "    }"
      ]
    },
    {
      "cell_type": "code",
      "execution_count": null,
      "id": "a6ce7d35-2526-49d8-a590-6bcc569ee01f",
      "metadata": {
        "id": "a6ce7d35-2526-49d8-a590-6bcc569ee01f"
      },
      "outputs": [],
      "source": [
        "import minsearch\n",
        "\n",
        "index = minsearch.Index(\n",
        "    text_fields=[\"question\", \"section\", \"text\"],\n",
        "    keyword_fields=[\"course\", \"id\"]\n",
        ")\n",
        "\n",
        "index.fit(documents)\n",
        "\n",
        "def search_minsearch_text(q):\n",
        "    filter_dict = {\"course\": q['course']}\n",
        "    boost_dict = {'question': 1.5, 'section': 0.1}\n",
        "\n",
        "    query = q['question']\n",
        "    return index.search(query, filter_dict=filter_dict, boost_dict=boost_dict, num_results=5)\n",
        ""
      ]
    },
    {
      "cell_type": "code",
      "execution_count": 6,
      "id": "1f14ae49-08a9-4b12-b2eb-f963efa4180f",
      "metadata": {
        "id": "1f14ae49-08a9-4b12-b2eb-f963efa4180f",
        "outputId": "1d9a5f93-e84d-4dbf-c2b1-181460fe0892",
        "colab": {
          "base_uri": "https://localhost:8080/",
          "height": 66,
          "referenced_widgets": [
            "cc761940013248a08faf214e4fac8c8e",
            "bb52a26514074a7fad31f0dfc4260803",
            "84cb7504a3b84bbcaf88ebf022eecd87",
            "360ee1e84ced4648b48b5e88cb205150",
            "f8a4dbbc2e374c0c80fa5e00823f8fd3",
            "0839abddf1b547aa808fc11fcb59c23e",
            "b991622d32494037af48a215ff32b717",
            "31bd9215812247dfa5f99cb4ff3ff04d",
            "60991c6f68aa470485419b756c80faa8",
            "e5d9ca5a63d941d1bc5644966f6bf32f",
            "aec54ac66b6e4979813dca8ed6c72763"
          ]
        }
      },
      "outputs": [
        {
          "output_type": "display_data",
          "data": {
            "text/plain": [
              "  0%|          | 0/4627 [00:00<?, ?it/s]"
            ],
            "application/vnd.jupyter.widget-view+json": {
              "version_major": 2,
              "version_minor": 0,
              "model_id": "cc761940013248a08faf214e4fac8c8e"
            }
          },
          "metadata": {}
        },
        {
          "output_type": "stream",
          "name": "stdout",
          "text": [
            "{'hit_rate': 0.848714069591528, 'mrr': 0.7288235717887772}\n"
          ]
        }
      ],
      "source": [
        "print(evaluate(ground_truth, search_minsearch_text))"
      ]
    },
    {
      "cell_type": "code",
      "execution_count": 7,
      "id": "d9a5d9b4-0bb6-4710-901a-265a62d839e7",
      "metadata": {
        "id": "d9a5d9b4-0bb6-4710-901a-265a62d839e7"
      },
      "outputs": [],
      "source": [
        "from minsearch import VectorSearch\n",
        "from sklearn.feature_extraction.text import TfidfVectorizer\n",
        "from sklearn.decomposition import TruncatedSVD\n",
        "from sklearn.pipeline import make_pipeline\n",
        "\n",
        "texts = []\n",
        "\n",
        "for doc in documents:\n",
        "    t = doc['question']\n",
        "    texts.append(t)\n",
        "\n",
        "pipeline = make_pipeline(\n",
        "    TfidfVectorizer(min_df=3),\n",
        "    TruncatedSVD(n_components=128, random_state=1)\n",
        ")\n",
        "X = pipeline.fit_transform(texts)\n"
      ]
    },
    {
      "cell_type": "code",
      "execution_count": 8,
      "id": "91c52f13-354d-4336-a44d-157eff8bf8e6",
      "metadata": {
        "id": "91c52f13-354d-4336-a44d-157eff8bf8e6",
        "outputId": "fc381306-1509-4c70-c560-67eb8c221ea8",
        "colab": {
          "base_uri": "https://localhost:8080/"
        }
      },
      "outputs": [
        {
          "output_type": "execute_result",
          "data": {
            "text/plain": [
              "<minsearch.vector.VectorSearch at 0x7bcfb551b110>"
            ]
          },
          "metadata": {},
          "execution_count": 8
        }
      ],
      "source": [
        "vindex = VectorSearch(keyword_fields={'course'})\n",
        "vindex.fit(X, documents)"
      ]
    },
    {
      "cell_type": "code",
      "execution_count": 9,
      "id": "e037ab87-b308-454d-aa26-71ee94ccf7f5",
      "metadata": {
        "id": "e037ab87-b308-454d-aa26-71ee94ccf7f5"
      },
      "outputs": [],
      "source": [
        "def search_minsearch_vector(q):\n",
        "    filter_dict = {\"course\": q['course']}\n",
        "\n",
        "    query = {q['question']}\n",
        "    vectors = pipeline.transform(query)\n",
        "    return vindex.search(vectors, filter_dict=filter_dict, num_results=5)"
      ]
    },
    {
      "cell_type": "code",
      "execution_count": 10,
      "id": "08423d80-61a0-4c90-a41f-e3c9c49515e5",
      "metadata": {
        "id": "08423d80-61a0-4c90-a41f-e3c9c49515e5",
        "outputId": "06d549c8-6bf5-46de-c597-652edcb047af",
        "colab": {
          "base_uri": "https://localhost:8080/",
          "height": 66,
          "referenced_widgets": [
            "01067379e971473d99b7bddf3ae09acc",
            "c92c0b1bc98044ce8ac02a8a4f59fd1a",
            "f93fd4566c234e0888c4be4734c303bb",
            "b137cd3f593f4a3c9a0de1a75868d26e",
            "63bae3be749945bb9907a9dbe953d61f",
            "79701ffd0ccd4d79855b51dc43988e1a",
            "66fc116ca66a4b82aff7fb89339ee172",
            "a714f81221a34df6b78662da280ce59d",
            "64a0bc54b78a4557b5c7aa7e7647ef99",
            "bdb53c56d22447b29227a457ab4bf9df",
            "4e7c8b3ff19f4a62aa8335d5bcc4dcd6"
          ]
        }
      },
      "outputs": [
        {
          "output_type": "display_data",
          "data": {
            "text/plain": [
              "  0%|          | 0/4627 [00:00<?, ?it/s]"
            ],
            "application/vnd.jupyter.widget-view+json": {
              "version_major": 2,
              "version_minor": 0,
              "model_id": "01067379e971473d99b7bddf3ae09acc"
            }
          },
          "metadata": {}
        },
        {
          "output_type": "stream",
          "name": "stdout",
          "text": [
            "{'hit_rate': 0.48173762697212014, 'mrr': 0.3572833369353793}\n"
          ]
        }
      ],
      "source": [
        "print(evaluate(ground_truth, search_minsearch_vector))"
      ]
    },
    {
      "cell_type": "code",
      "execution_count": 11,
      "id": "943f13cf-01af-4a03-9023-9d678e867af6",
      "metadata": {
        "id": "943f13cf-01af-4a03-9023-9d678e867af6"
      },
      "outputs": [],
      "source": [
        "texts = []\n",
        "\n",
        "for doc in documents:\n",
        "    t = doc['question'] + ' ' + doc['text']\n",
        "    texts.append(t)\n",
        "\n",
        "pipeline = make_pipeline(\n",
        "    TfidfVectorizer(min_df=3),\n",
        "    TruncatedSVD(n_components=128, random_state=1)\n",
        ")\n",
        "X = pipeline.fit_transform(texts)\n"
      ]
    },
    {
      "cell_type": "code",
      "execution_count": 12,
      "id": "fffa691f-5493-4fe7-bc59-f1d31db5c415",
      "metadata": {
        "id": "fffa691f-5493-4fe7-bc59-f1d31db5c415",
        "outputId": "e5828add-038d-4dc8-fd25-adadf4972372",
        "colab": {
          "base_uri": "https://localhost:8080/"
        }
      },
      "outputs": [
        {
          "output_type": "execute_result",
          "data": {
            "text/plain": [
              "<minsearch.vector.VectorSearch at 0x7bcfb4177450>"
            ]
          },
          "metadata": {},
          "execution_count": 12
        }
      ],
      "source": [
        "vindex = VectorSearch(keyword_fields={'course'})\n",
        "vindex.fit(X, documents)"
      ]
    },
    {
      "cell_type": "code",
      "execution_count": 13,
      "id": "5294b651-bf9a-4ad3-a854-08ba057fa31c",
      "metadata": {
        "id": "5294b651-bf9a-4ad3-a854-08ba057fa31c",
        "outputId": "5e007e19-346b-4a90-9bed-47f4acb4b6c4",
        "colab": {
          "base_uri": "https://localhost:8080/",
          "height": 66,
          "referenced_widgets": [
            "c14e92af2e314ac49929a962fd3de9e0",
            "0a03ea693718422daff387d0445f50b8",
            "1549c90d8d4a4b83b0ee270b559b37b3",
            "6e9bdd1d943d4c27b3841203a4df6b11",
            "9ef930b305db4c6bacdf91c969937e3d",
            "82cbb914309f443c8c9085e38f994b36",
            "d4a75c77cd314b3eb18e8c1bba464b6b",
            "5d68f24ab7a34a869aa05de83bb8a64e",
            "995e86c6b974450d828d400347a705d7",
            "c2994a343b9e41e2a1ec4c141ee72756",
            "b9402b2f44cf419fb2767a0e54afbb2c"
          ]
        }
      },
      "outputs": [
        {
          "output_type": "display_data",
          "data": {
            "text/plain": [
              "  0%|          | 0/4627 [00:00<?, ?it/s]"
            ],
            "application/vnd.jupyter.widget-view+json": {
              "version_major": 2,
              "version_minor": 0,
              "model_id": "c14e92af2e314ac49929a962fd3de9e0"
            }
          },
          "metadata": {}
        },
        {
          "output_type": "stream",
          "name": "stdout",
          "text": [
            "{'hit_rate': 0.8210503566025502, 'mrr': 0.6717347453353508}\n"
          ]
        }
      ],
      "source": [
        "print(evaluate(ground_truth, search_minsearch_vector))"
      ]
    },
    {
      "cell_type": "code",
      "execution_count": 14,
      "id": "57ccf37d-ee24-4811-9c09-5dd27f36f649",
      "metadata": {
        "id": "57ccf37d-ee24-4811-9c09-5dd27f36f649",
        "outputId": "93010956-3489-405b-e3ac-218142ed45d8",
        "colab": {
          "base_uri": "https://localhost:8080/"
        }
      },
      "outputs": [
        {
          "output_type": "stream",
          "name": "stdout",
          "text": [
            "\u001b[?25l   \u001b[90m━━━━━━━━━━━━━━━━━━━━━━━━━━━━━━━━━━━━━━━━\u001b[0m \u001b[32m0.0/100.9 kB\u001b[0m \u001b[31m?\u001b[0m eta \u001b[36m-:--:--\u001b[0m\r\u001b[2K   \u001b[90m━━━━━━━━━━━━━━━━━━━━━━━━━━━━━━━━━━━━━━━━\u001b[0m \u001b[32m100.9/100.9 kB\u001b[0m \u001b[31m3.6 MB/s\u001b[0m eta \u001b[36m0:00:00\u001b[0m\n",
            "\u001b[2K   \u001b[90m━━━━━━━━━━━━━━━━━━━━━━━━━━━━━━━━━━━━━━━━\u001b[0m \u001b[32m353.7/353.7 kB\u001b[0m \u001b[31m12.7 MB/s\u001b[0m eta \u001b[36m0:00:00\u001b[0m\n",
            "\u001b[2K   \u001b[90m━━━━━━━━━━━━━━━━━━━━━━━━━━━━━━━━━━━━━━━━\u001b[0m \u001b[32m1.0/1.0 MB\u001b[0m \u001b[31m36.3 MB/s\u001b[0m eta \u001b[36m0:00:00\u001b[0m\n",
            "\u001b[2K   \u001b[90m━━━━━━━━━━━━━━━━━━━━━━━━━━━━━━━━━━━━━━━━\u001b[0m \u001b[32m61.6/61.6 kB\u001b[0m \u001b[31m5.3 MB/s\u001b[0m eta \u001b[36m0:00:00\u001b[0m\n",
            "\u001b[2K   \u001b[90m━━━━━━━━━━━━━━━━━━━━━━━━━━━━━━━━━━━━━━━━\u001b[0m \u001b[32m103.1/103.1 kB\u001b[0m \u001b[31m8.0 MB/s\u001b[0m eta \u001b[36m0:00:00\u001b[0m\n",
            "\u001b[2K   \u001b[90m━━━━━━━━━━━━━━━━━━━━━━━━━━━━━━━━━━━━━━━━\u001b[0m \u001b[32m16.5/16.5 MB\u001b[0m \u001b[31m88.2 MB/s\u001b[0m eta \u001b[36m0:00:00\u001b[0m\n",
            "\u001b[2K   \u001b[90m━━━━━━━━━━━━━━━━━━━━━━━━━━━━━━━━━━━━━━━━\u001b[0m \u001b[32m324.8/324.8 kB\u001b[0m \u001b[31m27.8 MB/s\u001b[0m eta \u001b[36m0:00:00\u001b[0m\n",
            "\u001b[2K   \u001b[90m━━━━━━━━━━━━━━━━━━━━━━━━━━━━━━━━━━━━━━━━\u001b[0m \u001b[32m46.0/46.0 kB\u001b[0m \u001b[31m3.9 MB/s\u001b[0m eta \u001b[36m0:00:00\u001b[0m\n",
            "\u001b[2K   \u001b[90m━━━━━━━━━━━━━━━━━━━━━━━━━━━━━━━━━━━━━━━━\u001b[0m \u001b[32m86.8/86.8 kB\u001b[0m \u001b[31m7.3 MB/s\u001b[0m eta \u001b[36m0:00:00\u001b[0m\n",
            "\u001b[?25h"
          ]
        }
      ],
      "source": [
        "!pip install -q \"dlt[qdrant]\" \"qdrant-client[fastembed]\""
      ]
    },
    {
      "cell_type": "code",
      "execution_count": 15,
      "id": "575c5978-4ed0-4373-b019-7106736dc017",
      "metadata": {
        "id": "575c5978-4ed0-4373-b019-7106736dc017"
      },
      "outputs": [],
      "source": [
        "model=\"jinaai/jina-embeddings-v2-small-en\""
      ]
    },
    {
      "cell_type": "code",
      "execution_count": 16,
      "id": "b5a07b09-ef1f-4ae8-9d1a-01260ded62c0",
      "metadata": {
        "id": "b5a07b09-ef1f-4ae8-9d1a-01260ded62c0",
        "outputId": "a83c183f-202a-4ac3-993f-c247e629beda",
        "colab": {
          "base_uri": "https://localhost:8080/",
          "height": 106
        }
      },
      "outputs": [
        {
          "output_type": "error",
          "ename": "SyntaxError",
          "evalue": "invalid syntax (ipython-input-3231671964.py, line 6)",
          "traceback": [
            "\u001b[0;36m  File \u001b[0;32m\"/tmp/ipython-input-3231671964.py\"\u001b[0;36m, line \u001b[0;32m6\u001b[0m\n\u001b[0;31m    qd_destination = qdrant(model=model, url=, api_key=qd_api_key)\u001b[0m\n\u001b[0m                                             ^\u001b[0m\n\u001b[0;31mSyntaxError\u001b[0m\u001b[0;31m:\u001b[0m invalid syntax\n"
          ]
        }
      ],
      "source": [
        "from dlt.destinations import qdrant\n",
        "qd_db = \"qdrant_storage\"\n",
        "from google.colab import userdata\n",
        "qd_api_key = userdata.get('QD_API_KEY')\n",
        "qd_url =  userdata.get('QD_URL')\n",
        "qd_destination = qdrant(model=model, url=qd_url, api_key=qd_api_key)"
      ]
    },
    {
      "cell_type": "code",
      "execution_count": null,
      "id": "a1cb581c-b8a7-4cf2-ade9-e159f70fc2a0",
      "metadata": {
        "id": "a1cb581c-b8a7-4cf2-ade9-e159f70fc2a0"
      },
      "outputs": [],
      "source": [
        "import dlt\n",
        "@dlt.resource\n",
        "def homework3_data():\n",
        "    for document in documents:\n",
        "        yield doc['question'] + ' ' + doc['text']"
      ]
    },
    {
      "cell_type": "code",
      "execution_count": null,
      "id": "2bdda65b-8fc3-4071-9b8b-56df49beada3",
      "metadata": {
        "id": "2bdda65b-8fc3-4071-9b8b-56df49beada3"
      },
      "outputs": [],
      "source": [
        "#docker run -p 6333:6333 -p 6334:6334 -v \"$(pwd)/qdrant_storage:/qdrant/storage:z\" qdrant/qdrant"
      ]
    },
    {
      "cell_type": "code",
      "execution_count": null,
      "id": "a86d3139-5703-46da-a8bd-08bdab5fdd94",
      "metadata": {
        "scrolled": true,
        "id": "a86d3139-5703-46da-a8bd-08bdab5fdd94"
      },
      "outputs": [],
      "source": [
        "qd_collection= \"homework3_dataset\"\n",
        "qdrant_pipeline = dlt.pipeline(\n",
        "    pipeline_name=\"homework3\",\n",
        "    destination=qd_destination,\n",
        "    dataset_name=qd_collection,\n",
        ")\n",
        "load_info = qdrant_pipeline.run(homework3_data())"
      ]
    },
    {
      "cell_type": "code",
      "execution_count": null,
      "id": "f261eb21-347d-440d-a3e1-134483496fed",
      "metadata": {
        "id": "f261eb21-347d-440d-a3e1-134483496fed"
      },
      "outputs": [],
      "source": [
        "from qdrant_client import QdrantClient\n",
        "qd_db = \"db.qdrant\"\n",
        "client = QdrantClient(host=\"localhost\", port=6333)"
      ]
    },
    {
      "cell_type": "code",
      "execution_count": null,
      "id": "5fa2362b-ae84-4e7a-8b46-3d363154fbbb",
      "metadata": {
        "editable": true,
        "tags": [],
        "id": "5fa2362b-ae84-4e7a-8b46-3d363154fbbb"
      },
      "outputs": [],
      "source": [
        "vector_name=\"fast-jina-embeddings-v2-small-en\""
      ]
    },
    {
      "cell_type": "code",
      "execution_count": null,
      "id": "ae67a270-0472-452d-b9bc-c63d940ae454",
      "metadata": {
        "id": "ae67a270-0472-452d-b9bc-c63d940ae454"
      },
      "outputs": [],
      "source": [
        "model_name=\"jinaai/jina-embeddings-v2-small-en\""
      ]
    },
    {
      "cell_type": "code",
      "execution_count": null,
      "id": "8d323be8-4a18-4d38-bd5f-f44b305187ca",
      "metadata": {
        "id": "8d323be8-4a18-4d38-bd5f-f44b305187ca"
      },
      "outputs": [],
      "source": [
        "from fastembed import TextEmbedding\n",
        "\n",
        "def embeddingsFor(docs, model_name):\n",
        "    model = TextEmbedding(model_name=model_name)\n",
        "    return list(model.query_embed(docs))[0]"
      ]
    },
    {
      "cell_type": "code",
      "execution_count": null,
      "id": "485770ca-f15b-4b34-9e3e-259f90730788",
      "metadata": {
        "id": "485770ca-f15b-4b34-9e3e-259f90730788"
      },
      "outputs": [],
      "source": [
        "from qdrant_client.models import Filter, FieldCondition, MatchValue\n",
        "import numpy as np\n",
        "\n",
        "def search_qdrant(q):\n",
        "    course = q['course']\n",
        "    query = q['question']\n",
        "\n",
        "    # Create an embedding for the entire query string.\n",
        "    query_vector = embeddingsFor([query], model_name)\n",
        "\n",
        "    query_filter=Filter(\n",
        "        must=[FieldCondition(key=\"course\", match=MatchValue(value=course))]\n",
        "    )\n",
        "\n",
        "    # Use the generated vector in the search query.\n",
        "    result = client.query_points(collection_name=qd_collection,\n",
        "                               query_filter=query_filter,\n",
        "                               query=query_vector,\n",
        "                               using=vector_name,\n",
        "                               with_payload= True,\n",
        "                               limit=5)\n",
        "\n",
        "    payloads = [point.payload for point in result.points]\n",
        "\n",
        "    return payloads"
      ]
    },
    {
      "cell_type": "code",
      "execution_count": null,
      "id": "04f57c3d-f57b-44ae-b21a-7fc455d4348c",
      "metadata": {
        "id": "04f57c3d-f57b-44ae-b21a-7fc455d4348c"
      },
      "outputs": [],
      "source": [
        "evaluation = evaluate(ground_truth, search_qdrant)"
      ]
    },
    {
      "cell_type": "code",
      "execution_count": null,
      "id": "b1771102-1ac1-4a9c-a473-57826784dd0c",
      "metadata": {
        "id": "b1771102-1ac1-4a9c-a473-57826784dd0c"
      },
      "outputs": [],
      "source": [
        "print(evaluation)"
      ]
    },
    {
      "cell_type": "code",
      "execution_count": null,
      "id": "b6aa46e3-c777-4669-8b84-95b6c506791c",
      "metadata": {
        "id": "b6aa46e3-c777-4669-8b84-95b6c506791c"
      },
      "outputs": [],
      "source": []
    }
  ],
  "metadata": {
    "kernelspec": {
      "display_name": "Python 3 (ipykernel)",
      "language": "python",
      "name": "python3"
    },
    "language_info": {
      "codemirror_mode": {
        "name": "ipython",
        "version": 3
      },
      "file_extension": ".py",
      "mimetype": "text/x-python",
      "name": "python",
      "nbconvert_exporter": "python",
      "pygments_lexer": "ipython3",
      "version": "3.13.5"
    },
    "colab": {
      "provenance": [],
      "include_colab_link": true
    },
    "widgets": {
      "application/vnd.jupyter.widget-state+json": {
        "cc761940013248a08faf214e4fac8c8e": {
          "model_module": "@jupyter-widgets/controls",
          "model_name": "HBoxModel",
          "model_module_version": "1.5.0",
          "state": {
            "_dom_classes": [],
            "_model_module": "@jupyter-widgets/controls",
            "_model_module_version": "1.5.0",
            "_model_name": "HBoxModel",
            "_view_count": null,
            "_view_module": "@jupyter-widgets/controls",
            "_view_module_version": "1.5.0",
            "_view_name": "HBoxView",
            "box_style": "",
            "children": [
              "IPY_MODEL_bb52a26514074a7fad31f0dfc4260803",
              "IPY_MODEL_84cb7504a3b84bbcaf88ebf022eecd87",
              "IPY_MODEL_360ee1e84ced4648b48b5e88cb205150"
            ],
            "layout": "IPY_MODEL_f8a4dbbc2e374c0c80fa5e00823f8fd3"
          }
        },
        "bb52a26514074a7fad31f0dfc4260803": {
          "model_module": "@jupyter-widgets/controls",
          "model_name": "HTMLModel",
          "model_module_version": "1.5.0",
          "state": {
            "_dom_classes": [],
            "_model_module": "@jupyter-widgets/controls",
            "_model_module_version": "1.5.0",
            "_model_name": "HTMLModel",
            "_view_count": null,
            "_view_module": "@jupyter-widgets/controls",
            "_view_module_version": "1.5.0",
            "_view_name": "HTMLView",
            "description": "",
            "description_tooltip": null,
            "layout": "IPY_MODEL_0839abddf1b547aa808fc11fcb59c23e",
            "placeholder": "​",
            "style": "IPY_MODEL_b991622d32494037af48a215ff32b717",
            "value": "100%"
          }
        },
        "84cb7504a3b84bbcaf88ebf022eecd87": {
          "model_module": "@jupyter-widgets/controls",
          "model_name": "FloatProgressModel",
          "model_module_version": "1.5.0",
          "state": {
            "_dom_classes": [],
            "_model_module": "@jupyter-widgets/controls",
            "_model_module_version": "1.5.0",
            "_model_name": "FloatProgressModel",
            "_view_count": null,
            "_view_module": "@jupyter-widgets/controls",
            "_view_module_version": "1.5.0",
            "_view_name": "ProgressView",
            "bar_style": "success",
            "description": "",
            "description_tooltip": null,
            "layout": "IPY_MODEL_31bd9215812247dfa5f99cb4ff3ff04d",
            "max": 4627,
            "min": 0,
            "orientation": "horizontal",
            "style": "IPY_MODEL_60991c6f68aa470485419b756c80faa8",
            "value": 4627
          }
        },
        "360ee1e84ced4648b48b5e88cb205150": {
          "model_module": "@jupyter-widgets/controls",
          "model_name": "HTMLModel",
          "model_module_version": "1.5.0",
          "state": {
            "_dom_classes": [],
            "_model_module": "@jupyter-widgets/controls",
            "_model_module_version": "1.5.0",
            "_model_name": "HTMLModel",
            "_view_count": null,
            "_view_module": "@jupyter-widgets/controls",
            "_view_module_version": "1.5.0",
            "_view_name": "HTMLView",
            "description": "",
            "description_tooltip": null,
            "layout": "IPY_MODEL_e5d9ca5a63d941d1bc5644966f6bf32f",
            "placeholder": "​",
            "style": "IPY_MODEL_aec54ac66b6e4979813dca8ed6c72763",
            "value": " 4627/4627 [00:20&lt;00:00, 309.22it/s]"
          }
        },
        "f8a4dbbc2e374c0c80fa5e00823f8fd3": {
          "model_module": "@jupyter-widgets/base",
          "model_name": "LayoutModel",
          "model_module_version": "1.2.0",
          "state": {
            "_model_module": "@jupyter-widgets/base",
            "_model_module_version": "1.2.0",
            "_model_name": "LayoutModel",
            "_view_count": null,
            "_view_module": "@jupyter-widgets/base",
            "_view_module_version": "1.2.0",
            "_view_name": "LayoutView",
            "align_content": null,
            "align_items": null,
            "align_self": null,
            "border": null,
            "bottom": null,
            "display": null,
            "flex": null,
            "flex_flow": null,
            "grid_area": null,
            "grid_auto_columns": null,
            "grid_auto_flow": null,
            "grid_auto_rows": null,
            "grid_column": null,
            "grid_gap": null,
            "grid_row": null,
            "grid_template_areas": null,
            "grid_template_columns": null,
            "grid_template_rows": null,
            "height": null,
            "justify_content": null,
            "justify_items": null,
            "left": null,
            "margin": null,
            "max_height": null,
            "max_width": null,
            "min_height": null,
            "min_width": null,
            "object_fit": null,
            "object_position": null,
            "order": null,
            "overflow": null,
            "overflow_x": null,
            "overflow_y": null,
            "padding": null,
            "right": null,
            "top": null,
            "visibility": null,
            "width": null
          }
        },
        "0839abddf1b547aa808fc11fcb59c23e": {
          "model_module": "@jupyter-widgets/base",
          "model_name": "LayoutModel",
          "model_module_version": "1.2.0",
          "state": {
            "_model_module": "@jupyter-widgets/base",
            "_model_module_version": "1.2.0",
            "_model_name": "LayoutModel",
            "_view_count": null,
            "_view_module": "@jupyter-widgets/base",
            "_view_module_version": "1.2.0",
            "_view_name": "LayoutView",
            "align_content": null,
            "align_items": null,
            "align_self": null,
            "border": null,
            "bottom": null,
            "display": null,
            "flex": null,
            "flex_flow": null,
            "grid_area": null,
            "grid_auto_columns": null,
            "grid_auto_flow": null,
            "grid_auto_rows": null,
            "grid_column": null,
            "grid_gap": null,
            "grid_row": null,
            "grid_template_areas": null,
            "grid_template_columns": null,
            "grid_template_rows": null,
            "height": null,
            "justify_content": null,
            "justify_items": null,
            "left": null,
            "margin": null,
            "max_height": null,
            "max_width": null,
            "min_height": null,
            "min_width": null,
            "object_fit": null,
            "object_position": null,
            "order": null,
            "overflow": null,
            "overflow_x": null,
            "overflow_y": null,
            "padding": null,
            "right": null,
            "top": null,
            "visibility": null,
            "width": null
          }
        },
        "b991622d32494037af48a215ff32b717": {
          "model_module": "@jupyter-widgets/controls",
          "model_name": "DescriptionStyleModel",
          "model_module_version": "1.5.0",
          "state": {
            "_model_module": "@jupyter-widgets/controls",
            "_model_module_version": "1.5.0",
            "_model_name": "DescriptionStyleModel",
            "_view_count": null,
            "_view_module": "@jupyter-widgets/base",
            "_view_module_version": "1.2.0",
            "_view_name": "StyleView",
            "description_width": ""
          }
        },
        "31bd9215812247dfa5f99cb4ff3ff04d": {
          "model_module": "@jupyter-widgets/base",
          "model_name": "LayoutModel",
          "model_module_version": "1.2.0",
          "state": {
            "_model_module": "@jupyter-widgets/base",
            "_model_module_version": "1.2.0",
            "_model_name": "LayoutModel",
            "_view_count": null,
            "_view_module": "@jupyter-widgets/base",
            "_view_module_version": "1.2.0",
            "_view_name": "LayoutView",
            "align_content": null,
            "align_items": null,
            "align_self": null,
            "border": null,
            "bottom": null,
            "display": null,
            "flex": null,
            "flex_flow": null,
            "grid_area": null,
            "grid_auto_columns": null,
            "grid_auto_flow": null,
            "grid_auto_rows": null,
            "grid_column": null,
            "grid_gap": null,
            "grid_row": null,
            "grid_template_areas": null,
            "grid_template_columns": null,
            "grid_template_rows": null,
            "height": null,
            "justify_content": null,
            "justify_items": null,
            "left": null,
            "margin": null,
            "max_height": null,
            "max_width": null,
            "min_height": null,
            "min_width": null,
            "object_fit": null,
            "object_position": null,
            "order": null,
            "overflow": null,
            "overflow_x": null,
            "overflow_y": null,
            "padding": null,
            "right": null,
            "top": null,
            "visibility": null,
            "width": null
          }
        },
        "60991c6f68aa470485419b756c80faa8": {
          "model_module": "@jupyter-widgets/controls",
          "model_name": "ProgressStyleModel",
          "model_module_version": "1.5.0",
          "state": {
            "_model_module": "@jupyter-widgets/controls",
            "_model_module_version": "1.5.0",
            "_model_name": "ProgressStyleModel",
            "_view_count": null,
            "_view_module": "@jupyter-widgets/base",
            "_view_module_version": "1.2.0",
            "_view_name": "StyleView",
            "bar_color": null,
            "description_width": ""
          }
        },
        "e5d9ca5a63d941d1bc5644966f6bf32f": {
          "model_module": "@jupyter-widgets/base",
          "model_name": "LayoutModel",
          "model_module_version": "1.2.0",
          "state": {
            "_model_module": "@jupyter-widgets/base",
            "_model_module_version": "1.2.0",
            "_model_name": "LayoutModel",
            "_view_count": null,
            "_view_module": "@jupyter-widgets/base",
            "_view_module_version": "1.2.0",
            "_view_name": "LayoutView",
            "align_content": null,
            "align_items": null,
            "align_self": null,
            "border": null,
            "bottom": null,
            "display": null,
            "flex": null,
            "flex_flow": null,
            "grid_area": null,
            "grid_auto_columns": null,
            "grid_auto_flow": null,
            "grid_auto_rows": null,
            "grid_column": null,
            "grid_gap": null,
            "grid_row": null,
            "grid_template_areas": null,
            "grid_template_columns": null,
            "grid_template_rows": null,
            "height": null,
            "justify_content": null,
            "justify_items": null,
            "left": null,
            "margin": null,
            "max_height": null,
            "max_width": null,
            "min_height": null,
            "min_width": null,
            "object_fit": null,
            "object_position": null,
            "order": null,
            "overflow": null,
            "overflow_x": null,
            "overflow_y": null,
            "padding": null,
            "right": null,
            "top": null,
            "visibility": null,
            "width": null
          }
        },
        "aec54ac66b6e4979813dca8ed6c72763": {
          "model_module": "@jupyter-widgets/controls",
          "model_name": "DescriptionStyleModel",
          "model_module_version": "1.5.0",
          "state": {
            "_model_module": "@jupyter-widgets/controls",
            "_model_module_version": "1.5.0",
            "_model_name": "DescriptionStyleModel",
            "_view_count": null,
            "_view_module": "@jupyter-widgets/base",
            "_view_module_version": "1.2.0",
            "_view_name": "StyleView",
            "description_width": ""
          }
        },
        "01067379e971473d99b7bddf3ae09acc": {
          "model_module": "@jupyter-widgets/controls",
          "model_name": "HBoxModel",
          "model_module_version": "1.5.0",
          "state": {
            "_dom_classes": [],
            "_model_module": "@jupyter-widgets/controls",
            "_model_module_version": "1.5.0",
            "_model_name": "HBoxModel",
            "_view_count": null,
            "_view_module": "@jupyter-widgets/controls",
            "_view_module_version": "1.5.0",
            "_view_name": "HBoxView",
            "box_style": "",
            "children": [
              "IPY_MODEL_c92c0b1bc98044ce8ac02a8a4f59fd1a",
              "IPY_MODEL_f93fd4566c234e0888c4be4734c303bb",
              "IPY_MODEL_b137cd3f593f4a3c9a0de1a75868d26e"
            ],
            "layout": "IPY_MODEL_63bae3be749945bb9907a9dbe953d61f"
          }
        },
        "c92c0b1bc98044ce8ac02a8a4f59fd1a": {
          "model_module": "@jupyter-widgets/controls",
          "model_name": "HTMLModel",
          "model_module_version": "1.5.0",
          "state": {
            "_dom_classes": [],
            "_model_module": "@jupyter-widgets/controls",
            "_model_module_version": "1.5.0",
            "_model_name": "HTMLModel",
            "_view_count": null,
            "_view_module": "@jupyter-widgets/controls",
            "_view_module_version": "1.5.0",
            "_view_name": "HTMLView",
            "description": "",
            "description_tooltip": null,
            "layout": "IPY_MODEL_79701ffd0ccd4d79855b51dc43988e1a",
            "placeholder": "​",
            "style": "IPY_MODEL_66fc116ca66a4b82aff7fb89339ee172",
            "value": "100%"
          }
        },
        "f93fd4566c234e0888c4be4734c303bb": {
          "model_module": "@jupyter-widgets/controls",
          "model_name": "FloatProgressModel",
          "model_module_version": "1.5.0",
          "state": {
            "_dom_classes": [],
            "_model_module": "@jupyter-widgets/controls",
            "_model_module_version": "1.5.0",
            "_model_name": "FloatProgressModel",
            "_view_count": null,
            "_view_module": "@jupyter-widgets/controls",
            "_view_module_version": "1.5.0",
            "_view_name": "ProgressView",
            "bar_style": "success",
            "description": "",
            "description_tooltip": null,
            "layout": "IPY_MODEL_a714f81221a34df6b78662da280ce59d",
            "max": 4627,
            "min": 0,
            "orientation": "horizontal",
            "style": "IPY_MODEL_64a0bc54b78a4557b5c7aa7e7647ef99",
            "value": 4627
          }
        },
        "b137cd3f593f4a3c9a0de1a75868d26e": {
          "model_module": "@jupyter-widgets/controls",
          "model_name": "HTMLModel",
          "model_module_version": "1.5.0",
          "state": {
            "_dom_classes": [],
            "_model_module": "@jupyter-widgets/controls",
            "_model_module_version": "1.5.0",
            "_model_name": "HTMLModel",
            "_view_count": null,
            "_view_module": "@jupyter-widgets/controls",
            "_view_module_version": "1.5.0",
            "_view_name": "HTMLView",
            "description": "",
            "description_tooltip": null,
            "layout": "IPY_MODEL_bdb53c56d22447b29227a457ab4bf9df",
            "placeholder": "​",
            "style": "IPY_MODEL_4e7c8b3ff19f4a62aa8335d5bcc4dcd6",
            "value": " 4627/4627 [00:07&lt;00:00, 667.52it/s]"
          }
        },
        "63bae3be749945bb9907a9dbe953d61f": {
          "model_module": "@jupyter-widgets/base",
          "model_name": "LayoutModel",
          "model_module_version": "1.2.0",
          "state": {
            "_model_module": "@jupyter-widgets/base",
            "_model_module_version": "1.2.0",
            "_model_name": "LayoutModel",
            "_view_count": null,
            "_view_module": "@jupyter-widgets/base",
            "_view_module_version": "1.2.0",
            "_view_name": "LayoutView",
            "align_content": null,
            "align_items": null,
            "align_self": null,
            "border": null,
            "bottom": null,
            "display": null,
            "flex": null,
            "flex_flow": null,
            "grid_area": null,
            "grid_auto_columns": null,
            "grid_auto_flow": null,
            "grid_auto_rows": null,
            "grid_column": null,
            "grid_gap": null,
            "grid_row": null,
            "grid_template_areas": null,
            "grid_template_columns": null,
            "grid_template_rows": null,
            "height": null,
            "justify_content": null,
            "justify_items": null,
            "left": null,
            "margin": null,
            "max_height": null,
            "max_width": null,
            "min_height": null,
            "min_width": null,
            "object_fit": null,
            "object_position": null,
            "order": null,
            "overflow": null,
            "overflow_x": null,
            "overflow_y": null,
            "padding": null,
            "right": null,
            "top": null,
            "visibility": null,
            "width": null
          }
        },
        "79701ffd0ccd4d79855b51dc43988e1a": {
          "model_module": "@jupyter-widgets/base",
          "model_name": "LayoutModel",
          "model_module_version": "1.2.0",
          "state": {
            "_model_module": "@jupyter-widgets/base",
            "_model_module_version": "1.2.0",
            "_model_name": "LayoutModel",
            "_view_count": null,
            "_view_module": "@jupyter-widgets/base",
            "_view_module_version": "1.2.0",
            "_view_name": "LayoutView",
            "align_content": null,
            "align_items": null,
            "align_self": null,
            "border": null,
            "bottom": null,
            "display": null,
            "flex": null,
            "flex_flow": null,
            "grid_area": null,
            "grid_auto_columns": null,
            "grid_auto_flow": null,
            "grid_auto_rows": null,
            "grid_column": null,
            "grid_gap": null,
            "grid_row": null,
            "grid_template_areas": null,
            "grid_template_columns": null,
            "grid_template_rows": null,
            "height": null,
            "justify_content": null,
            "justify_items": null,
            "left": null,
            "margin": null,
            "max_height": null,
            "max_width": null,
            "min_height": null,
            "min_width": null,
            "object_fit": null,
            "object_position": null,
            "order": null,
            "overflow": null,
            "overflow_x": null,
            "overflow_y": null,
            "padding": null,
            "right": null,
            "top": null,
            "visibility": null,
            "width": null
          }
        },
        "66fc116ca66a4b82aff7fb89339ee172": {
          "model_module": "@jupyter-widgets/controls",
          "model_name": "DescriptionStyleModel",
          "model_module_version": "1.5.0",
          "state": {
            "_model_module": "@jupyter-widgets/controls",
            "_model_module_version": "1.5.0",
            "_model_name": "DescriptionStyleModel",
            "_view_count": null,
            "_view_module": "@jupyter-widgets/base",
            "_view_module_version": "1.2.0",
            "_view_name": "StyleView",
            "description_width": ""
          }
        },
        "a714f81221a34df6b78662da280ce59d": {
          "model_module": "@jupyter-widgets/base",
          "model_name": "LayoutModel",
          "model_module_version": "1.2.0",
          "state": {
            "_model_module": "@jupyter-widgets/base",
            "_model_module_version": "1.2.0",
            "_model_name": "LayoutModel",
            "_view_count": null,
            "_view_module": "@jupyter-widgets/base",
            "_view_module_version": "1.2.0",
            "_view_name": "LayoutView",
            "align_content": null,
            "align_items": null,
            "align_self": null,
            "border": null,
            "bottom": null,
            "display": null,
            "flex": null,
            "flex_flow": null,
            "grid_area": null,
            "grid_auto_columns": null,
            "grid_auto_flow": null,
            "grid_auto_rows": null,
            "grid_column": null,
            "grid_gap": null,
            "grid_row": null,
            "grid_template_areas": null,
            "grid_template_columns": null,
            "grid_template_rows": null,
            "height": null,
            "justify_content": null,
            "justify_items": null,
            "left": null,
            "margin": null,
            "max_height": null,
            "max_width": null,
            "min_height": null,
            "min_width": null,
            "object_fit": null,
            "object_position": null,
            "order": null,
            "overflow": null,
            "overflow_x": null,
            "overflow_y": null,
            "padding": null,
            "right": null,
            "top": null,
            "visibility": null,
            "width": null
          }
        },
        "64a0bc54b78a4557b5c7aa7e7647ef99": {
          "model_module": "@jupyter-widgets/controls",
          "model_name": "ProgressStyleModel",
          "model_module_version": "1.5.0",
          "state": {
            "_model_module": "@jupyter-widgets/controls",
            "_model_module_version": "1.5.0",
            "_model_name": "ProgressStyleModel",
            "_view_count": null,
            "_view_module": "@jupyter-widgets/base",
            "_view_module_version": "1.2.0",
            "_view_name": "StyleView",
            "bar_color": null,
            "description_width": ""
          }
        },
        "bdb53c56d22447b29227a457ab4bf9df": {
          "model_module": "@jupyter-widgets/base",
          "model_name": "LayoutModel",
          "model_module_version": "1.2.0",
          "state": {
            "_model_module": "@jupyter-widgets/base",
            "_model_module_version": "1.2.0",
            "_model_name": "LayoutModel",
            "_view_count": null,
            "_view_module": "@jupyter-widgets/base",
            "_view_module_version": "1.2.0",
            "_view_name": "LayoutView",
            "align_content": null,
            "align_items": null,
            "align_self": null,
            "border": null,
            "bottom": null,
            "display": null,
            "flex": null,
            "flex_flow": null,
            "grid_area": null,
            "grid_auto_columns": null,
            "grid_auto_flow": null,
            "grid_auto_rows": null,
            "grid_column": null,
            "grid_gap": null,
            "grid_row": null,
            "grid_template_areas": null,
            "grid_template_columns": null,
            "grid_template_rows": null,
            "height": null,
            "justify_content": null,
            "justify_items": null,
            "left": null,
            "margin": null,
            "max_height": null,
            "max_width": null,
            "min_height": null,
            "min_width": null,
            "object_fit": null,
            "object_position": null,
            "order": null,
            "overflow": null,
            "overflow_x": null,
            "overflow_y": null,
            "padding": null,
            "right": null,
            "top": null,
            "visibility": null,
            "width": null
          }
        },
        "4e7c8b3ff19f4a62aa8335d5bcc4dcd6": {
          "model_module": "@jupyter-widgets/controls",
          "model_name": "DescriptionStyleModel",
          "model_module_version": "1.5.0",
          "state": {
            "_model_module": "@jupyter-widgets/controls",
            "_model_module_version": "1.5.0",
            "_model_name": "DescriptionStyleModel",
            "_view_count": null,
            "_view_module": "@jupyter-widgets/base",
            "_view_module_version": "1.2.0",
            "_view_name": "StyleView",
            "description_width": ""
          }
        },
        "c14e92af2e314ac49929a962fd3de9e0": {
          "model_module": "@jupyter-widgets/controls",
          "model_name": "HBoxModel",
          "model_module_version": "1.5.0",
          "state": {
            "_dom_classes": [],
            "_model_module": "@jupyter-widgets/controls",
            "_model_module_version": "1.5.0",
            "_model_name": "HBoxModel",
            "_view_count": null,
            "_view_module": "@jupyter-widgets/controls",
            "_view_module_version": "1.5.0",
            "_view_name": "HBoxView",
            "box_style": "",
            "children": [
              "IPY_MODEL_0a03ea693718422daff387d0445f50b8",
              "IPY_MODEL_1549c90d8d4a4b83b0ee270b559b37b3",
              "IPY_MODEL_6e9bdd1d943d4c27b3841203a4df6b11"
            ],
            "layout": "IPY_MODEL_9ef930b305db4c6bacdf91c969937e3d"
          }
        },
        "0a03ea693718422daff387d0445f50b8": {
          "model_module": "@jupyter-widgets/controls",
          "model_name": "HTMLModel",
          "model_module_version": "1.5.0",
          "state": {
            "_dom_classes": [],
            "_model_module": "@jupyter-widgets/controls",
            "_model_module_version": "1.5.0",
            "_model_name": "HTMLModel",
            "_view_count": null,
            "_view_module": "@jupyter-widgets/controls",
            "_view_module_version": "1.5.0",
            "_view_name": "HTMLView",
            "description": "",
            "description_tooltip": null,
            "layout": "IPY_MODEL_82cbb914309f443c8c9085e38f994b36",
            "placeholder": "​",
            "style": "IPY_MODEL_d4a75c77cd314b3eb18e8c1bba464b6b",
            "value": "100%"
          }
        },
        "1549c90d8d4a4b83b0ee270b559b37b3": {
          "model_module": "@jupyter-widgets/controls",
          "model_name": "FloatProgressModel",
          "model_module_version": "1.5.0",
          "state": {
            "_dom_classes": [],
            "_model_module": "@jupyter-widgets/controls",
            "_model_module_version": "1.5.0",
            "_model_name": "FloatProgressModel",
            "_view_count": null,
            "_view_module": "@jupyter-widgets/controls",
            "_view_module_version": "1.5.0",
            "_view_name": "ProgressView",
            "bar_style": "success",
            "description": "",
            "description_tooltip": null,
            "layout": "IPY_MODEL_5d68f24ab7a34a869aa05de83bb8a64e",
            "max": 4627,
            "min": 0,
            "orientation": "horizontal",
            "style": "IPY_MODEL_995e86c6b974450d828d400347a705d7",
            "value": 4627
          }
        },
        "6e9bdd1d943d4c27b3841203a4df6b11": {
          "model_module": "@jupyter-widgets/controls",
          "model_name": "HTMLModel",
          "model_module_version": "1.5.0",
          "state": {
            "_dom_classes": [],
            "_model_module": "@jupyter-widgets/controls",
            "_model_module_version": "1.5.0",
            "_model_name": "HTMLModel",
            "_view_count": null,
            "_view_module": "@jupyter-widgets/controls",
            "_view_module_version": "1.5.0",
            "_view_name": "HTMLView",
            "description": "",
            "description_tooltip": null,
            "layout": "IPY_MODEL_c2994a343b9e41e2a1ec4c141ee72756",
            "placeholder": "​",
            "style": "IPY_MODEL_b9402b2f44cf419fb2767a0e54afbb2c",
            "value": " 4627/4627 [00:08&lt;00:00, 585.41it/s]"
          }
        },
        "9ef930b305db4c6bacdf91c969937e3d": {
          "model_module": "@jupyter-widgets/base",
          "model_name": "LayoutModel",
          "model_module_version": "1.2.0",
          "state": {
            "_model_module": "@jupyter-widgets/base",
            "_model_module_version": "1.2.0",
            "_model_name": "LayoutModel",
            "_view_count": null,
            "_view_module": "@jupyter-widgets/base",
            "_view_module_version": "1.2.0",
            "_view_name": "LayoutView",
            "align_content": null,
            "align_items": null,
            "align_self": null,
            "border": null,
            "bottom": null,
            "display": null,
            "flex": null,
            "flex_flow": null,
            "grid_area": null,
            "grid_auto_columns": null,
            "grid_auto_flow": null,
            "grid_auto_rows": null,
            "grid_column": null,
            "grid_gap": null,
            "grid_row": null,
            "grid_template_areas": null,
            "grid_template_columns": null,
            "grid_template_rows": null,
            "height": null,
            "justify_content": null,
            "justify_items": null,
            "left": null,
            "margin": null,
            "max_height": null,
            "max_width": null,
            "min_height": null,
            "min_width": null,
            "object_fit": null,
            "object_position": null,
            "order": null,
            "overflow": null,
            "overflow_x": null,
            "overflow_y": null,
            "padding": null,
            "right": null,
            "top": null,
            "visibility": null,
            "width": null
          }
        },
        "82cbb914309f443c8c9085e38f994b36": {
          "model_module": "@jupyter-widgets/base",
          "model_name": "LayoutModel",
          "model_module_version": "1.2.0",
          "state": {
            "_model_module": "@jupyter-widgets/base",
            "_model_module_version": "1.2.0",
            "_model_name": "LayoutModel",
            "_view_count": null,
            "_view_module": "@jupyter-widgets/base",
            "_view_module_version": "1.2.0",
            "_view_name": "LayoutView",
            "align_content": null,
            "align_items": null,
            "align_self": null,
            "border": null,
            "bottom": null,
            "display": null,
            "flex": null,
            "flex_flow": null,
            "grid_area": null,
            "grid_auto_columns": null,
            "grid_auto_flow": null,
            "grid_auto_rows": null,
            "grid_column": null,
            "grid_gap": null,
            "grid_row": null,
            "grid_template_areas": null,
            "grid_template_columns": null,
            "grid_template_rows": null,
            "height": null,
            "justify_content": null,
            "justify_items": null,
            "left": null,
            "margin": null,
            "max_height": null,
            "max_width": null,
            "min_height": null,
            "min_width": null,
            "object_fit": null,
            "object_position": null,
            "order": null,
            "overflow": null,
            "overflow_x": null,
            "overflow_y": null,
            "padding": null,
            "right": null,
            "top": null,
            "visibility": null,
            "width": null
          }
        },
        "d4a75c77cd314b3eb18e8c1bba464b6b": {
          "model_module": "@jupyter-widgets/controls",
          "model_name": "DescriptionStyleModel",
          "model_module_version": "1.5.0",
          "state": {
            "_model_module": "@jupyter-widgets/controls",
            "_model_module_version": "1.5.0",
            "_model_name": "DescriptionStyleModel",
            "_view_count": null,
            "_view_module": "@jupyter-widgets/base",
            "_view_module_version": "1.2.0",
            "_view_name": "StyleView",
            "description_width": ""
          }
        },
        "5d68f24ab7a34a869aa05de83bb8a64e": {
          "model_module": "@jupyter-widgets/base",
          "model_name": "LayoutModel",
          "model_module_version": "1.2.0",
          "state": {
            "_model_module": "@jupyter-widgets/base",
            "_model_module_version": "1.2.0",
            "_model_name": "LayoutModel",
            "_view_count": null,
            "_view_module": "@jupyter-widgets/base",
            "_view_module_version": "1.2.0",
            "_view_name": "LayoutView",
            "align_content": null,
            "align_items": null,
            "align_self": null,
            "border": null,
            "bottom": null,
            "display": null,
            "flex": null,
            "flex_flow": null,
            "grid_area": null,
            "grid_auto_columns": null,
            "grid_auto_flow": null,
            "grid_auto_rows": null,
            "grid_column": null,
            "grid_gap": null,
            "grid_row": null,
            "grid_template_areas": null,
            "grid_template_columns": null,
            "grid_template_rows": null,
            "height": null,
            "justify_content": null,
            "justify_items": null,
            "left": null,
            "margin": null,
            "max_height": null,
            "max_width": null,
            "min_height": null,
            "min_width": null,
            "object_fit": null,
            "object_position": null,
            "order": null,
            "overflow": null,
            "overflow_x": null,
            "overflow_y": null,
            "padding": null,
            "right": null,
            "top": null,
            "visibility": null,
            "width": null
          }
        },
        "995e86c6b974450d828d400347a705d7": {
          "model_module": "@jupyter-widgets/controls",
          "model_name": "ProgressStyleModel",
          "model_module_version": "1.5.0",
          "state": {
            "_model_module": "@jupyter-widgets/controls",
            "_model_module_version": "1.5.0",
            "_model_name": "ProgressStyleModel",
            "_view_count": null,
            "_view_module": "@jupyter-widgets/base",
            "_view_module_version": "1.2.0",
            "_view_name": "StyleView",
            "bar_color": null,
            "description_width": ""
          }
        },
        "c2994a343b9e41e2a1ec4c141ee72756": {
          "model_module": "@jupyter-widgets/base",
          "model_name": "LayoutModel",
          "model_module_version": "1.2.0",
          "state": {
            "_model_module": "@jupyter-widgets/base",
            "_model_module_version": "1.2.0",
            "_model_name": "LayoutModel",
            "_view_count": null,
            "_view_module": "@jupyter-widgets/base",
            "_view_module_version": "1.2.0",
            "_view_name": "LayoutView",
            "align_content": null,
            "align_items": null,
            "align_self": null,
            "border": null,
            "bottom": null,
            "display": null,
            "flex": null,
            "flex_flow": null,
            "grid_area": null,
            "grid_auto_columns": null,
            "grid_auto_flow": null,
            "grid_auto_rows": null,
            "grid_column": null,
            "grid_gap": null,
            "grid_row": null,
            "grid_template_areas": null,
            "grid_template_columns": null,
            "grid_template_rows": null,
            "height": null,
            "justify_content": null,
            "justify_items": null,
            "left": null,
            "margin": null,
            "max_height": null,
            "max_width": null,
            "min_height": null,
            "min_width": null,
            "object_fit": null,
            "object_position": null,
            "order": null,
            "overflow": null,
            "overflow_x": null,
            "overflow_y": null,
            "padding": null,
            "right": null,
            "top": null,
            "visibility": null,
            "width": null
          }
        },
        "b9402b2f44cf419fb2767a0e54afbb2c": {
          "model_module": "@jupyter-widgets/controls",
          "model_name": "DescriptionStyleModel",
          "model_module_version": "1.5.0",
          "state": {
            "_model_module": "@jupyter-widgets/controls",
            "_model_module_version": "1.5.0",
            "_model_name": "DescriptionStyleModel",
            "_view_count": null,
            "_view_module": "@jupyter-widgets/base",
            "_view_module_version": "1.2.0",
            "_view_name": "StyleView",
            "description_width": ""
          }
        }
      }
    }
  },
  "nbformat": 4,
  "nbformat_minor": 5
}