{
 "cells": [
  {
   "cell_type": "code",
   "execution_count": 1,
   "id": "2fb47599-161d-4902-8f08-b40195bd555f",
   "metadata": {},
   "outputs": [],
   "source": [
    "%load_ext autoreload\n",
    "%autoreload 2"
   ]
  },
  {
   "cell_type": "code",
   "execution_count": 2,
   "id": "29283001-1a81-4e7b-96f9-7f46e9b1c329",
   "metadata": {},
   "outputs": [
    {
     "name": "stdout",
     "output_type": "stream",
     "text": [
      "Note: you may need to restart the kernel to use updated packages.\n"
     ]
    }
   ],
   "source": [
    "pip install -U minsearch qdrant_client tqdm -q"
   ]
  },
  {
   "cell_type": "code",
   "execution_count": 3,
   "id": "38cf98ff-ad89-4560-97eb-476cc2b1839c",
   "metadata": {},
   "outputs": [],
   "source": [
    "import requests\n",
    "import pandas as pd\n",
    "\n",
    "url_prefix = 'https://raw.githubusercontent.com/DataTalksClub/llm-zoomcamp/main/03-evaluation/'\n",
    "docs_url = url_prefix + 'search_evaluation/documents-with-ids.json'\n",
    "documents = requests.get(docs_url).json()\n",
    "\n",
    "ground_truth_url = url_prefix + 'search_evaluation/ground-truth-data.csv'\n",
    "df_ground_truth = pd.read_csv(ground_truth_url)\n",
    "ground_truth = df_ground_truth.to_dict(orient='records')\n"
   ]
  },
  {
   "cell_type": "code",
   "execution_count": 4,
   "id": "819dbcdb-113b-42f6-a9c7-97a1c3a05b31",
   "metadata": {},
   "outputs": [],
   "source": [
    "from tqdm.auto import tqdm\n",
    "\n",
    "def hit_rate(relevance_total):\n",
    "    cnt = 0\n",
    "\n",
    "    for line in relevance_total:\n",
    "        if True in line:\n",
    "            cnt = cnt + 1\n",
    "\n",
    "    return cnt / len(relevance_total)\n",
    "\n",
    "def mrr(relevance_total):\n",
    "    total_score = 0.0\n",
    "\n",
    "    for line in relevance_total:\n",
    "        for rank in range(len(line)):\n",
    "            if line[rank] == True:\n",
    "                total_score = total_score + 1 / (rank + 1)\n",
    "\n",
    "    return total_score / len(relevance_total)\n",
    "\n",
    "def evaluate(ground_truth, search_function):\n",
    "    relevance_total = []\n",
    "\n",
    "    for q in tqdm(ground_truth):\n",
    "        doc_id = q['document']\n",
    "        results = search_function(q)\n",
    "        relevance = [d['id'] == doc_id for d in results]\n",
    "        relevance_total.append(relevance)\n",
    "\n",
    "    return {\n",
    "        'hit_rate': hit_rate(relevance_total),\n",
    "        'mrr': mrr(relevance_total)\n",
    "    }"
   ]
  },
  {
   "cell_type": "code",
   "execution_count": 5,
   "id": "a6ce7d35-2526-49d8-a590-6bcc569ee01f",
   "metadata": {},
   "outputs": [],
   "source": [
    "import minsearch\n",
    "\n",
    "index = minsearch.Index(\n",
    "    text_fields=[\"question\", \"section\", \"text\"],\n",
    "    keyword_fields=[\"course\", \"id\"]\n",
    ")\n",
    "\n",
    "index.fit(documents)\n",
    "\n",
    "def search_minsearch_text(q):\n",
    "    filter_dict = {\"course\": q['course']}\n",
    "    boost_dict = {'question': 1.5, 'section': 0.1}\n",
    "\n",
    "    query = q['question']\n",
    "    return index.search(query, filter_dict=filter_dict, boost_dict=boost_dict, num_results=5)\n",
    "    "
   ]
  },
  {
   "cell_type": "code",
   "execution_count": 6,
   "id": "1f14ae49-08a9-4b12-b2eb-f963efa4180f",
   "metadata": {},
   "outputs": [
    {
     "data": {
      "application/vnd.jupyter.widget-view+json": {
       "model_id": "c2190c5bbbfa41549cff043ea6faaf02",
       "version_major": 2,
       "version_minor": 0
      },
      "text/plain": [
       "  0%|          | 0/4627 [00:00<?, ?it/s]"
      ]
     },
     "metadata": {},
     "output_type": "display_data"
    },
    {
     "name": "stdout",
     "output_type": "stream",
     "text": [
      "{'hit_rate': 0.848714069591528, 'mrr': 0.7288235717887772}\n"
     ]
    }
   ],
   "source": [
    "print(evaluate(ground_truth, search_minsearch_text))"
   ]
  },
  {
   "cell_type": "code",
   "execution_count": 7,
   "id": "d9a5d9b4-0bb6-4710-901a-265a62d839e7",
   "metadata": {},
   "outputs": [],
   "source": [
    "from minsearch import VectorSearch\n",
    "from sklearn.feature_extraction.text import TfidfVectorizer\n",
    "from sklearn.decomposition import TruncatedSVD\n",
    "from sklearn.pipeline import make_pipeline\n",
    "\n",
    "texts = []\n",
    "\n",
    "for doc in documents:\n",
    "    t = doc['question']\n",
    "    texts.append(t)\n",
    "\n",
    "pipeline = make_pipeline(\n",
    "    TfidfVectorizer(min_df=3),\n",
    "    TruncatedSVD(n_components=128, random_state=1)\n",
    ")\n",
    "X = pipeline.fit_transform(texts)\n"
   ]
  },
  {
   "cell_type": "code",
   "execution_count": 8,
   "id": "91c52f13-354d-4336-a44d-157eff8bf8e6",
   "metadata": {},
   "outputs": [
    {
     "data": {
      "text/plain": [
       "<minsearch.vector.VectorSearch at 0x347a6f230>"
      ]
     },
     "execution_count": 8,
     "metadata": {},
     "output_type": "execute_result"
    }
   ],
   "source": [
    "vindex = VectorSearch(keyword_fields={'course'})\n",
    "vindex.fit(X, documents)"
   ]
  },
  {
   "cell_type": "code",
   "execution_count": 9,
   "id": "e037ab87-b308-454d-aa26-71ee94ccf7f5",
   "metadata": {},
   "outputs": [],
   "source": [
    "def search_minsearch_vector(q):\n",
    "    filter_dict = {\"course\": q['course']}\n",
    "\n",
    "    query = {q['question']}\n",
    "    vectors = pipeline.transform(query)\n",
    "    return vindex.search(vectors, filter_dict=filter_dict, num_results=5)"
   ]
  },
  {
   "cell_type": "code",
   "execution_count": 10,
   "id": "08423d80-61a0-4c90-a41f-e3c9c49515e5",
   "metadata": {},
   "outputs": [
    {
     "data": {
      "application/vnd.jupyter.widget-view+json": {
       "model_id": "9c90d8caa94d4d73b79c98658ceefd61",
       "version_major": 2,
       "version_minor": 0
      },
      "text/plain": [
       "  0%|          | 0/4627 [00:00<?, ?it/s]"
      ]
     },
     "metadata": {},
     "output_type": "display_data"
    },
    {
     "name": "stdout",
     "output_type": "stream",
     "text": [
      "{'hit_rate': 0.48173762697212014, 'mrr': 0.3572833369353793}\n"
     ]
    }
   ],
   "source": [
    "print(evaluate(ground_truth, search_minsearch_vector)) "
   ]
  },
  {
   "cell_type": "code",
   "execution_count": 11,
   "id": "943f13cf-01af-4a03-9023-9d678e867af6",
   "metadata": {},
   "outputs": [],
   "source": [
    "texts = []\n",
    "\n",
    "for doc in documents:\n",
    "    t = doc['question'] + ' ' + doc['text']\n",
    "    texts.append(t)\n",
    "\n",
    "pipeline = make_pipeline(\n",
    "    TfidfVectorizer(min_df=3),\n",
    "    TruncatedSVD(n_components=128, random_state=1)\n",
    ")\n",
    "X = pipeline.fit_transform(texts)\n"
   ]
  },
  {
   "cell_type": "code",
   "execution_count": 12,
   "id": "fffa691f-5493-4fe7-bc59-f1d31db5c415",
   "metadata": {},
   "outputs": [
    {
     "data": {
      "text/plain": [
       "<minsearch.vector.VectorSearch at 0x348229450>"
      ]
     },
     "execution_count": 12,
     "metadata": {},
     "output_type": "execute_result"
    }
   ],
   "source": [
    "vindex = VectorSearch(keyword_fields={'course'})\n",
    "vindex.fit(X, documents)"
   ]
  },
  {
   "cell_type": "code",
   "execution_count": 13,
   "id": "5294b651-bf9a-4ad3-a854-08ba057fa31c",
   "metadata": {},
   "outputs": [
    {
     "data": {
      "application/vnd.jupyter.widget-view+json": {
       "model_id": "e0716d08f2d84cbb82c16ba19393e9a0",
       "version_major": 2,
       "version_minor": 0
      },
      "text/plain": [
       "  0%|          | 0/4627 [00:00<?, ?it/s]"
      ]
     },
     "metadata": {},
     "output_type": "display_data"
    },
    {
     "name": "stdout",
     "output_type": "stream",
     "text": [
      "{'hit_rate': 0.8210503566025502, 'mrr': 0.6717347453353508}\n"
     ]
    }
   ],
   "source": [
    "print(evaluate(ground_truth, search_minsearch_vector)) "
   ]
  },
  {
   "cell_type": "code",
   "execution_count": 14,
   "id": "57ccf37d-ee24-4811-9c09-5dd27f36f649",
   "metadata": {},
   "outputs": [],
   "source": [
    "!pip install -q \"dlt[qdrant]\" \"qdrant-client[fastembed]\""
   ]
  },
  {
   "cell_type": "code",
   "execution_count": 15,
   "id": "575c5978-4ed0-4373-b019-7106736dc017",
   "metadata": {},
   "outputs": [],
   "source": [
    "model=\"jinaai/jina-embeddings-v2-small-en\""
   ]
  },
  {
   "cell_type": "code",
   "execution_count": 16,
   "id": "b5a07b09-ef1f-4ae8-9d1a-01260ded62c0",
   "metadata": {},
   "outputs": [],
   "source": [
    "from dlt.destinations import qdrant\n",
    "qd_db = \"qdrant_storage\"\n",
    "qd_destination = qdrant(model=model)"
   ]
  },
  {
   "cell_type": "code",
   "execution_count": 17,
   "id": "a1cb581c-b8a7-4cf2-ade9-e159f70fc2a0",
   "metadata": {},
   "outputs": [],
   "source": [
    "import dlt\n",
    "@dlt.resource\n",
    "def homework3_data():\n",
    "    for document in documents:\n",
    "        yield doc['question'] + ' ' + doc['text']"
   ]
  },
  {
   "cell_type": "code",
   "execution_count": 18,
   "id": "2bdda65b-8fc3-4071-9b8b-56df49beada3",
   "metadata": {},
   "outputs": [],
   "source": [
    "#docker run -p 6333:6333 -p 6334:6334 -v \"$(pwd)/qdrant_storage:/qdrant/storage:z\" qdrant/qdrant"
   ]
  },
  {
   "cell_type": "code",
   "execution_count": 19,
   "id": "a86d3139-5703-46da-a8bd-08bdab5fdd94",
   "metadata": {
    "scrolled": true
   },
   "outputs": [],
   "source": [
    "qd_collection= \"homework3_dataset\"\n",
    "qdrant_pipeline = dlt.pipeline(\n",
    "    pipeline_name=\"homework3\",\n",
    "    destination=qd_destination,\n",
    "    dataset_name=qd_collection,\n",
    ")\n",
    "load_info = qdrant_pipeline.run(homework3_data())"
   ]
  },
  {
   "cell_type": "code",
   "execution_count": 20,
   "id": "f261eb21-347d-440d-a3e1-134483496fed",
   "metadata": {},
   "outputs": [],
   "source": [
    "from qdrant_client import QdrantClient\n",
    "qd_db = \"db.qdrant\"\n",
    "client = QdrantClient(host=\"localhost\", port=6333)"
   ]
  },
  {
   "cell_type": "code",
   "execution_count": 21,
   "id": "5fa2362b-ae84-4e7a-8b46-3d363154fbbb",
   "metadata": {
    "editable": true,
    "slideshow": {
     "slide_type": ""
    },
    "tags": []
   },
   "outputs": [],
   "source": [
    "vector_name=\"fast-jina-embeddings-v2-small-en\""
   ]
  },
  {
   "cell_type": "code",
   "execution_count": 22,
   "id": "ae67a270-0472-452d-b9bc-c63d940ae454",
   "metadata": {},
   "outputs": [],
   "source": [
    "model_name=\"jinaai/jina-embeddings-v2-small-en\""
   ]
  },
  {
   "cell_type": "code",
   "execution_count": 23,
   "id": "8d323be8-4a18-4d38-bd5f-f44b305187ca",
   "metadata": {},
   "outputs": [],
   "source": [
    "from fastembed import TextEmbedding\n",
    "\n",
    "def embeddingsFor(docs, model_name):    \n",
    "    model = TextEmbedding(model_name=model_name)\n",
    "    return list(model.query_embed(docs))[0]"
   ]
  },
  {
   "cell_type": "code",
   "execution_count": 24,
   "id": "485770ca-f15b-4b34-9e3e-259f90730788",
   "metadata": {},
   "outputs": [],
   "source": [
    "from qdrant_client.models import Filter, FieldCondition, MatchValue\n",
    "import numpy as np\n",
    "\n",
    "def search_qdrant(q):\n",
    "    course = q['course']\n",
    "    query = q['question']\n",
    "    \n",
    "    # Create an embedding for the entire query string.\n",
    "    query_vector = embeddingsFor([query], model_name)\n",
    "    \n",
    "    query_filter=Filter(\n",
    "        must=[FieldCondition(key=\"course\", match=MatchValue(value=course))]\n",
    "    )\n",
    "    \n",
    "    # Use the generated vector in the search query.\n",
    "    result = client.query_points(collection_name=qd_collection, \n",
    "                               query_filter=query_filter, \n",
    "                               query=query_vector, \n",
    "                               using=vector_name,\n",
    "                               with_payload= True,\n",
    "                               limit=5)\n",
    "    \n",
    "    payloads = [point.payload for point in result.points]\n",
    "    \n",
    "    return payloads"
   ]
  },
  {
   "cell_type": "code",
   "execution_count": null,
   "id": "04f57c3d-f57b-44ae-b21a-7fc455d4348c",
   "metadata": {},
   "outputs": [],
   "source": [
    "evaluation = evaluate(ground_truth, search_qdrant)"
   ]
  },
  {
   "cell_type": "code",
   "execution_count": null,
   "id": "b1771102-1ac1-4a9c-a473-57826784dd0c",
   "metadata": {},
   "outputs": [],
   "source": [
    "print(evaluation)"
   ]
  },
  {
   "cell_type": "code",
   "execution_count": null,
   "id": "b6aa46e3-c777-4669-8b84-95b6c506791c",
   "metadata": {},
   "outputs": [],
   "source": []
  }
 ],
 "metadata": {
  "kernelspec": {
   "display_name": "Python 3 (ipykernel)",
   "language": "python",
   "name": "python3"
  },
  "language_info": {
   "codemirror_mode": {
    "name": "ipython",
    "version": 3
   },
   "file_extension": ".py",
   "mimetype": "text/x-python",
   "name": "python",
   "nbconvert_exporter": "python",
   "pygments_lexer": "ipython3",
   "version": "3.13.5"
  }
 },
 "nbformat": 4,
 "nbformat_minor": 5
}
