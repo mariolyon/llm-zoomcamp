{
 "cells": [
  {
   "cell_type": "code",
   "execution_count": 1,
   "id": "b8a924f9-2d54-4200-afa5-900621696527",
   "metadata": {},
   "outputs": [],
   "source": [
    "!pip install fastembed > /dev/null 2>&1"
   ]
  },
  {
   "cell_type": "code",
   "execution_count": 2,
   "id": "064e8826-cd8e-4edd-8f89-f3088024498d",
   "metadata": {},
   "outputs": [],
   "source": [
    "from fastembed import TextEmbedding"
   ]
  },
  {
   "cell_type": "code",
   "execution_count": 3,
   "id": "dc15b8ab-f54b-4a51-a9c7-c116d92dce32",
   "metadata": {},
   "outputs": [],
   "source": [
    "queries: list[str] = [\n",
    "    \"I just discovered the course. Can I join now?\",\n",
    "]"
   ]
  },
  {
   "cell_type": "code",
   "execution_count": 4,
   "id": "01457d1f-5d85-408a-baa1-a2fd7daa61b5",
   "metadata": {},
   "outputs": [],
   "source": [
    "def embeddingsFor(docs, model_name=\"jinaai/jina-embeddings-v2-small-en\"):\n",
    "    model = TextEmbedding(model_name=model_name)\n",
    "    return list(model.embed(docs))"
   ]
  },
  {
   "cell_type": "code",
   "execution_count": 5,
   "id": "1cefbf04-3511-4a1a-869d-68861a659087",
   "metadata": {},
   "outputs": [],
   "source": [
    "embeddings = embeddingsFor(queries)"
   ]
  },
  {
   "cell_type": "code",
   "execution_count": 6,
   "id": "485d8b8b-716e-45db-b4c3-d8282fca3f65",
   "metadata": {},
   "outputs": [],
   "source": [
    "q = embeddings[0]"
   ]
  },
  {
   "cell_type": "code",
   "execution_count": 7,
   "id": "f4bcb959-c0de-4d48-a5fb-b968da30fa3a",
   "metadata": {},
   "outputs": [
    {
     "name": "stdout",
     "output_type": "stream",
     "text": [
      "Emebedding vector Length: 512\n"
     ]
    }
   ],
   "source": [
    "print(f\"Emebedding vector Length: {len(q)}\")"
   ]
  },
  {
   "cell_type": "code",
   "execution_count": 8,
   "id": "185d063f-50a1-428f-a613-06395f995a5d",
   "metadata": {},
   "outputs": [
    {
     "name": "stdout",
     "output_type": "stream",
     "text": [
      "Q1: -0.11726373022974847\n"
     ]
    }
   ],
   "source": [
    "print(f\"Q1: {min(embeddings[0])}\")"
   ]
  },
  {
   "cell_type": "code",
   "execution_count": 9,
   "id": "08c5145e-b05c-4336-aa40-84205f62c58b",
   "metadata": {},
   "outputs": [],
   "source": [
    "doc = 'Can I still join the course after the start date?'"
   ]
  },
  {
   "cell_type": "code",
   "execution_count": 10,
   "id": "08fc4699-f4b0-42e4-a24d-4774f9993e71",
   "metadata": {},
   "outputs": [
    {
     "name": "stdout",
     "output_type": "stream",
     "text": [
      "Q2: 0.9008529113860175\n"
     ]
    }
   ],
   "source": [
    "print(f\"Q2: {embeddingsFor(doc)[0].dot(q)}\")\n",
    "\n"
   ]
  },
  {
   "cell_type": "code",
   "execution_count": 11,
   "id": "6df37918-6946-435c-b48e-b4d8feaec16b",
   "metadata": {},
   "outputs": [],
   "source": [
    "documents: list[str] = [{'text': \"Yes, even if you don't register, you're still eligible to submit the homeworks.\\nBe aware, however, that there will be deadlines for turning in the final projects. So don't leave everything for the last minute.\",\n",
    "  'section': 'General course-related questions',\n",
    "  'question': 'Course - Can I still join the course after the start date?',\n",
    "  'course': 'data-engineering-zoomcamp'},\n",
    " {'text': 'Yes, we will keep all the materials after the course finishes, so you can follow the course at your own pace after it finishes.\\nYou can also continue looking at the homeworks and continue preparing for the next cohort. I guess you can also start working on your final capstone project.',\n",
    "  'section': 'General course-related questions',\n",
    "  'question': 'Course - Can I follow the course after it finishes?',\n",
    "  'course': 'data-engineering-zoomcamp'},\n",
    " {'text': \"The purpose of this document is to capture frequently asked technical questions\\nThe exact day and hour of the course will be 15th Jan 2024 at 17h00. The course will start with the first  “Office Hours'' live.1\\nSubscribe to course public Google Calendar (it works from Desktop only).\\nRegister before the course starts using this link.\\nJoin the course Telegram channel with announcements.\\nDon’t forget to register in DataTalks.Club's Slack and join the channel.\",\n",
    "  'section': 'General course-related questions',\n",
    "  'question': 'Course - When will the course start?',\n",
    "  'course': 'data-engineering-zoomcamp'},\n",
    " {'text': 'You can start by installing and setting up all the dependencies and requirements:\\nGoogle cloud account\\nGoogle Cloud SDK\\nPython 3 (installed with Anaconda)\\nTerraform\\nGit\\nLook over the prerequisites and syllabus to see if you are comfortable with these subjects.',\n",
    "  'section': 'General course-related questions',\n",
    "  'question': 'Course - What can I do before the course starts?',\n",
    "  'course': 'data-engineering-zoomcamp'},\n",
    " {'text': 'Star the repo! Share it with friends if you find it useful ❣️\\nCreate a PR if you see you can improve the text or the structure of the repository.',\n",
    "  'section': 'General course-related questions',\n",
    "  'question': 'How can we contribute to the course?',\n",
    "  'course': 'data-engineering-zoomcamp'}]"
   ]
  },
  {
   "cell_type": "code",
   "execution_count": 12,
   "id": "743279d6-c585-4aea-bb40-e57e20abd64a",
   "metadata": {},
   "outputs": [],
   "source": [
    "documentVectors = embeddingsFor(list(map(lambda document: document['text'], documents)))"
   ]
  },
  {
   "cell_type": "code",
   "execution_count": 13,
   "id": "e32cbe99-c360-4fcc-acf2-6b7e4e5953b2",
   "metadata": {},
   "outputs": [
    {
     "data": {
      "text/plain": [
       "512"
      ]
     },
     "execution_count": 13,
     "metadata": {},
     "output_type": "execute_result"
    }
   ],
   "source": [
    "len(documentVectors[0])"
   ]
  },
  {
   "cell_type": "code",
   "execution_count": 14,
   "id": "6ec94851-c79a-4be5-96af-5002faf68959",
   "metadata": {},
   "outputs": [
    {
     "data": {
      "text/plain": [
       "np.float64(0.762968452623467)"
      ]
     },
     "execution_count": 14,
     "metadata": {},
     "output_type": "execute_result"
    }
   ],
   "source": [
    "documentVectors[0].dot(q)"
   ]
  },
  {
   "cell_type": "code",
   "execution_count": 15,
   "id": "1a28c603-3c68-454b-9f71-c15583f5f90e",
   "metadata": {},
   "outputs": [
    {
     "data": {
      "text/plain": [
       "[np.float64(0.762968452623467),\n",
       " np.float64(0.8182378205962001),\n",
       " np.float64(0.8085397376859877),\n",
       " np.float64(0.713307864606494),\n",
       " np.float64(0.7304499263004142)]"
      ]
     },
     "execution_count": 15,
     "metadata": {},
     "output_type": "execute_result"
    }
   ],
   "source": [
    "cosines = list(map(lambda v:  v.dot(q), documentVectors));\n",
    "cosines"
   ]
  },
  {
   "cell_type": "code",
   "execution_count": 16,
   "id": "e3e42158-0f74-4ba4-9bb2-8ada600bc09d",
   "metadata": {},
   "outputs": [
    {
     "name": "stdout",
     "output_type": "stream",
     "text": [
      "Q3: 1\n"
     ]
    }
   ],
   "source": [
    "index, _ = max(enumerate(cosines), key=lambda pair: pair[1]);\n",
    "print(f\"Q3: {index}\")"
   ]
  },
  {
   "cell_type": "code",
   "execution_count": 17,
   "id": "abd11852-821c-4e31-b6c4-fb39c54452b9",
   "metadata": {},
   "outputs": [],
   "source": [
    "import numpy as np"
   ]
  },
  {
   "cell_type": "code",
   "execution_count": 18,
   "id": "6e8b8ddb-ee71-47e3-add3-58ed7a5e3cd7",
   "metadata": {},
   "outputs": [],
   "source": [
    "def entryWithMaxValue(values):\n",
    "    index, _ = max(enumerate(values), key=lambda pair: pair[1])\n",
    "    return index"
   ]
  },
  {
   "cell_type": "code",
   "execution_count": 19,
   "id": "d27e979a-0180-476d-9b65-ebe644d8b1f1",
   "metadata": {},
   "outputs": [],
   "source": [
    "def entryWithMaxSimilarity(documents, q, model_name=None):\n",
    "    embeddings = None\n",
    "    if model_name is None:\n",
    "          embeddings = embeddingsFor(documents)\n",
    "    else:\n",
    "          embeddings = embeddingsFor(documents, model_name)\n",
    "    matrix = np.array(embeddings)\n",
    "    cosines = matrix.dot(q)\n",
    "    return entryWithMaxValue(cosines)\n"
   ]
  },
  {
   "cell_type": "code",
   "execution_count": 20,
   "id": "f04db1e6-3639-4a53-b8b2-90625e50604d",
   "metadata": {},
   "outputs": [
    {
     "data": {
      "text/plain": [
       "array([0.76296845, 0.81823782, 0.80853974, 0.71330786, 0.73044993])"
      ]
     },
     "execution_count": 20,
     "metadata": {},
     "output_type": "execute_result"
    }
   ],
   "source": [
    "matrix = np.array(documentVectors)\n",
    "cosines1 = matrix.dot(q)\n",
    "cosines1"
   ]
  },
  {
   "cell_type": "code",
   "execution_count": 21,
   "id": "6da32adf-1e83-4e40-997b-1d0e3918cbb7",
   "metadata": {},
   "outputs": [
    {
     "data": {
      "text/plain": [
       "1"
      ]
     },
     "execution_count": 21,
     "metadata": {},
     "output_type": "execute_result"
    }
   ],
   "source": [
    "entryWithMaxValue(cosines1)"
   ]
  },
  {
   "cell_type": "code",
   "execution_count": 22,
   "id": "a992497a-ded0-4a84-bd61-143a4ce208eb",
   "metadata": {},
   "outputs": [
    {
     "data": {
      "text/plain": [
       "1"
      ]
     },
     "execution_count": 22,
     "metadata": {},
     "output_type": "execute_result"
    }
   ],
   "source": [
    "entryWithMaxSimilarity(list(map(lambda document: document['text'], documents)), q)"
   ]
  },
  {
   "cell_type": "code",
   "execution_count": 23,
   "id": "2b3fb63f-e039-4b43-a3ac-641a62003912",
   "metadata": {},
   "outputs": [
    {
     "name": "stdout",
     "output_type": "stream",
     "text": [
      "Q4: 0\n"
     ]
    }
   ],
   "source": [
    "Q4 = entryWithMaxSimilarity(list(map(lambda document: document['question'] + ' ' + document['text'], documents)), q)\n",
    "print(f\"Q4: {Q4}\")"
   ]
  },
  {
   "cell_type": "code",
   "execution_count": 24,
   "id": "8f047575-64c3-4f7a-aed6-3d58be64db45",
   "metadata": {},
   "outputs": [
    {
     "data": {
      "text/plain": [
       "{'text': 'Machine Learning Zoomcamp FAQ\\nThe purpose of this document is to capture frequently asked technical questions.\\nWe did this for our data engineering course and it worked quite well. Check this document for inspiration on how to structure your questions and answers:\\nData Engineering Zoomcamp FAQ\\nIn the course GitHub repository there’s a link. Here it is: https://airtable.com/shryxwLd0COOEaqXo\\nwork',\n",
       " 'section': 'General course-related questions',\n",
       " 'question': 'How do I sign up?',\n",
       " 'course': 'machine-learning-zoomcamp'}"
      ]
     },
     "execution_count": 24,
     "metadata": {},
     "output_type": "execute_result"
    }
   ],
   "source": [
    "import requests \n",
    "\n",
    "docs_url = 'https://github.com/alexeygrigorev/llm-rag-workshop/raw/main/notebooks/documents.json'\n",
    "docs_response = requests.get(docs_url)\n",
    "documents_raw = docs_response.json()\n",
    "\n",
    "\n",
    "documents = []\n",
    "\n",
    "for course in documents_raw:\n",
    "    course_name = course['course']\n",
    "    if course_name != 'machine-learning-zoomcamp':\n",
    "        continue\n",
    "\n",
    "    for doc in course['documents']:\n",
    "        doc['course'] = course_name\n",
    "        documents.append(doc)\n",
    "\n",
    "len(documents)\n",
    "documents[0]"
   ]
  },
  {
   "cell_type": "code",
   "execution_count": 25,
   "id": "c41c7b37-bfd6-4669-8e44-e0e9db7a4bce",
   "metadata": {},
   "outputs": [],
   "source": [
    "embedding_model = TextEmbedding(model_name=\"jinaai/jina-embeddings-v2-small-en\")"
   ]
  },
  {
   "cell_type": "code",
   "execution_count": 26,
   "id": "68bc0c40-491b-4249-ba7e-80d44aba4bce",
   "metadata": {},
   "outputs": [
    {
     "name": "stdout",
     "output_type": "stream",
     "text": [
      "Q6: 0.8620737698280204\n"
     ]
    }
   ],
   "source": [
    "embeddings: list[np.ndarray] = list(\n",
    "    embedding_model.passage_embed(list(map(lambda document: document['question'] + ' ' + document['text'], documents)))\n",
    ")\n",
    "query = queries[0]\n",
    "query_embedding = list(embedding_model.query_embed(query))[0]\n",
    "plain_query_embedding = list(embedding_model.embed(query))[0]\n",
    "\n",
    "scores = np.dot(embeddings, query_embedding)\n",
    "print(f\"Q6: {max(scores)}\")"
   ]
  },
  {
   "cell_type": "code",
   "execution_count": null,
   "id": "813acf05-7015-4bdd-b265-835491350d98",
   "metadata": {},
   "outputs": [],
   "source": []
  }
 ],
 "metadata": {
  "kernelspec": {
   "display_name": "Python 3 (ipykernel)",
   "language": "python",
   "name": "python3"
  },
  "language_info": {
   "codemirror_mode": {
    "name": "ipython",
    "version": 3
   },
   "file_extension": ".py",
   "mimetype": "text/x-python",
   "name": "python",
   "nbconvert_exporter": "python",
   "pygments_lexer": "ipython3",
   "version": "3.9.23"
  }
 },
 "nbformat": 4,
 "nbformat_minor": 5
}
